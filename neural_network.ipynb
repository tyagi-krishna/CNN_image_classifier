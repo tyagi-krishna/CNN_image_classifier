{
 "cells": [
  {
   "cell_type": "code",
   "execution_count": 111,
   "metadata": {},
   "outputs": [],
   "source": [
    "import pandas as pd\n",
    "import torch\n",
    "from torch import nn\n",
    "from torch import tanh, sigmoid"
   ]
  },
  {
   "cell_type": "code",
   "execution_count": 112,
   "metadata": {},
   "outputs": [
    {
     "name": "stdout",
     "output_type": "stream",
     "text": [
      "(60000, 785)\n"
     ]
    }
   ],
   "source": [
    "#importing data from the set.\n",
    "mnist_data = pd.read_csv('mnist_train.csv', dtype=\"float\").dropna()\n",
    "print(mnist_data.shape)"
   ]
  },
  {
   "cell_type": "code",
   "execution_count": 113,
   "metadata": {},
   "outputs": [],
   "source": [
    "Y = torch.tensor(mnist_data['label']).float()\n",
    "X_list = mnist_data.drop(columns=['label'])\n",
    "X = torch.tensor(X_list.values).float()"
   ]
  },
  {
   "cell_type": "code",
   "execution_count": 114,
   "metadata": {},
   "outputs": [],
   "source": [
    "# Creating the Neural Netowrk: \n",
    "# D_in-no. of inputs\n",
    "# D_out- no. of outputs\n",
    "# H- no of neurons in hidden layer\n",
    "class CNN(nn.Module):\n",
    "    def __init__(self,D_in, H, D_out):\n",
    "        super(CNN,self).__init__()\n",
    "        self.linear1 = nn.Linear(D_in, H)\n",
    "        self.linear2 = nn.Linear(H,D_out)\n",
    "        \n",
    "    def forward(self,x):\n",
    "        x = sigmoid(self.linear1(x))\n",
    "        x = sigmoid(self.linear2(x))\n",
    "        return x"
   ]
  },
  {
   "cell_type": "code",
   "execution_count": 115,
   "metadata": {},
   "outputs": [],
   "source": [
    "model = CNN(784, 784, 10)"
   ]
  },
  {
   "cell_type": "code",
   "execution_count": 116,
   "metadata": {},
   "outputs": [],
   "source": [
    "# function for training the CNN \n",
    "# step means to upgrade the parameters\n",
    "# backward means to take derivative\n",
    "def train(Y, X, model, optimizer, criterion, epochs):\n",
    "    cost = []\n",
    "    total = 0\n",
    "    for epoch in range(epochs):\n",
    "        total = 0\n",
    "        for y, x in zip(Y, X):\n",
    "            yhat = model(x)\n",
    "            loss = criterion(yhat, y.long())\n",
    "            loss.backward()\n",
    "            optimizer.step()\n",
    "            optimizer.zero_grad()\n",
    "            total += loss.item()\n",
    "        cost.append(total)\n",
    "    return cost"
   ]
  },
  {
   "cell_type": "code",
   "execution_count": 117,
   "metadata": {},
   "outputs": [],
   "source": [
    "criterion = nn.CrossEntropyLoss()\n",
    "optimizer = torch.optim.SGD(model.parameters(),lr=0.003)\n",
    "epochs = 1\n",
    "cost = train(Y, X, model, optimizer, criterion, epochs)"
   ]
  },
  {
   "cell_type": "code",
   "execution_count": 118,
   "metadata": {},
   "outputs": [],
   "source": [
    "# saving a model \n",
    "PATH = './cifar_net.pth'\n",
    "dict = model.state_dict()\n",
    "torch.save(dict, PATH)\n",
    "# model.load_state_dict(torch.load(PATH)) \n",
    "# can be used to load that model again"
   ]
  },
  {
   "cell_type": "code",
   "execution_count": 119,
   "metadata": {},
   "outputs": [],
   "source": [
    "mnist_data_test = pd.read_csv('mnist_test.csv', dtype=\"float\").dropna()\n",
    "Y_test = torch.tensor(mnist_data_test['label']).float()\n",
    "X_list = mnist_data_test.drop(columns=['label'])\n",
    "X_test = torch.tensor(X_list.values).float()"
   ]
  },
  {
   "cell_type": "code",
   "execution_count": 120,
   "metadata": {},
   "outputs": [],
   "source": [
    "def test(X):\n",
    "    y = model(X)\n",
    "    y_predicted = torch.argmax(y)\n",
    "    return y_predicted"
   ]
  },
  {
   "cell_type": "code",
   "execution_count": 121,
   "metadata": {},
   "outputs": [
    {
     "name": "stdout",
     "output_type": "stream",
     "text": [
      "The loss is: 0.078\n",
      "Number of right predictions: 9220\n",
      "Number of wrong predictions: 780\n"
     ]
    }
   ],
   "source": [
    "right = 0\n",
    "wrong = 0\n",
    "for i in range(10000):\n",
    "    predicted = test(X_test[i])\n",
    "    y = Y_test[i]\n",
    "    if predicted == y:\n",
    "        right = right+1\n",
    "    else:\n",
    "        wrong = wrong+1 \n",
    "print(\"The loss is:\", wrong/(right+wrong))\n",
    "print(\"Number of right predictions:\", right)\n",
    "print(\"Number of wrong predictions:\", wrong)"
   ]
  }
 ],
 "metadata": {
  "kernelspec": {
   "display_name": "Python 3",
   "language": "python",
   "name": "python3"
  },
  "language_info": {
   "codemirror_mode": {
    "name": "ipython",
    "version": 3
   },
   "file_extension": ".py",
   "mimetype": "text/x-python",
   "name": "python",
   "nbconvert_exporter": "python",
   "pygments_lexer": "ipython3",
   "version": "3.10.9 (tags/v3.10.9:1dd9be6, Dec  6 2022, 20:01:21) [MSC v.1934 64 bit (AMD64)]"
  },
  "orig_nbformat": 4,
  "vscode": {
   "interpreter": {
    "hash": "fa4a27bd41d0cf36f9f9b9492b2f9e58daee837c50c5f70fb00801aa8329958e"
   }
  }
 },
 "nbformat": 4,
 "nbformat_minor": 2
}
